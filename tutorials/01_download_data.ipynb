{
 "cells": [
  {
   "cell_type": "markdown",
   "metadata": {},
   "source": [
    "# Tutorial: Download Data\n",
    "\n",
    "This tutorial demonstrates how to download public data from the Dendritic Consortium dataset, hosted publicly on AWS S3.\n",
    "\n",
    "---"
   ]
  },
  {
   "cell_type": "markdown",
   "metadata": {},
   "source": [
    "## Method 1: Web Database\n",
    "\n",
    "Once our web-based data browser is launched, you will be able to:\n",
    "\n",
    "- Search for datasets by type, lab, or date\n",
    "- View associated metadata\n",
    "- Click to download files via direct S3 URLs\n"
   ]
  },
  {
   "cell_type": "markdown",
   "id": "c2ade118",
   "metadata": {},
   "source": [
    "## Method 2: Python\n",
    "\n",
    "Replace `file_path` with the file path you want from the GUI database.\n",
    "\n",
    "**Install requirements**:\n",
    "\n",
    "```bash\n",
    "pip install boto3"
   ]
  },
  {
   "cell_type": "code",
   "execution_count": 4,
   "id": "28233e4a",
   "metadata": {},
   "outputs": [
    {
     "name": "stdout",
     "output_type": "stream",
     "text": [
      "Download complete: sample_image.tif\n"
     ]
    }
   ],
   "source": [
    "import boto3\n",
    "from botocore import UNSIGNED\n",
    "from botocore.client import Config\n",
    "\n",
    "file_path = 'yuste/20250620/image/raw/sample_image.tif'\n",
    "\n",
    "s3 = boto3.client('s3', config=Config(signature_version=UNSIGNED))\n",
    "bucket = 'dendriticconsortium'\n",
    "filename = file_path.split(\"/\")[-1]\n",
    "\n",
    "s3.download_file(bucket, file_path, filename)\n",
    "print(f'Download complete: {filename}')"
   ]
  },
  {
   "cell_type": "markdown",
   "id": "dffe7c30",
   "metadata": {},
   "source": [
    "## Method 3: AWS CLI\n",
    "\n",
    "This method is ideal for fast terminal-based access. Replace `<file_path>` with the file path you want from the GUI database. \n",
    "\n",
    "**Install AWS CLI**:  \n",
    "\n",
    "Follow [this guide](https://docs.aws.amazon.com/cli/latest/userguide/install-cliv2.html) to install AWS CLI.\n",
    "\n",
    "**Download command**:\n",
    "```bash\n",
    "aws s3 cp s3://dendriticconsortium/<file_path> . --no-sign-request\n",
    "```"
   ]
  }
 ],
 "metadata": {
  "kernelspec": {
   "display_name": ".venv",
   "language": "python",
   "name": "python3"
  },
  "language_info": {
   "codemirror_mode": {
    "name": "ipython",
    "version": 3
   },
   "file_extension": ".py",
   "mimetype": "text/x-python",
   "name": "python",
   "nbconvert_exporter": "python",
   "pygments_lexer": "ipython3",
   "version": "3.13.5"
  }
 },
 "nbformat": 4,
 "nbformat_minor": 5
}
